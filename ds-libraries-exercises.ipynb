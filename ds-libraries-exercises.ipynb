{
 "cells": [
  {
   "cell_type": "code",
   "execution_count": 2,
   "id": "5a6e396d",
   "metadata": {},
   "outputs": [],
   "source": [
    "import numpy as np"
   ]
  },
  {
   "cell_type": "markdown",
   "id": "e32d9677",
   "metadata": {},
   "source": [
    "Use the following code for the questions below:\n",
    "\n",
    "\n",
    "a = np.array([4, 10, 12, 23, -2, -1, 0, 0, 0, -6, 3, -7])\n",
    "How many negative numbers are there?\n",
    "\n",
    "How many positive numbers are there?\n",
    "\n",
    "How many even positive numbers are there?\n",
    "\n",
    "If you were to add 3 to each data point, how many positive numbers would there be?\n",
    "\n",
    "If you squared each number, what would the new mean and standard deviation be?\n",
    "\n",
    "A common statistical operation on a dataset is centering. This means to adjust the data such that the mean of the data is 0. This is done by subtracting the mean from each data point. Center the data set. See this link for more on centering.\n",
    "\n",
    "Calculate the z-score for each data point. Recall that the z-score is given by:\n",
    "\n",
    "Z\n",
    "=\n",
    "x\n",
    "−\n",
    "μ\n",
    "σ\n",
    "Copy the setup and exercise directions from More Numpy Practice into your numpy_exercises.py and add your solutions."
   ]
  },
  {
   "cell_type": "code",
   "execution_count": 117,
   "id": "99273bc2",
   "metadata": {},
   "outputs": [],
   "source": [
    "a = np.array([4, 10, 12, 23, -2, -1, 0, 0, 0, -6, 3, -7])"
   ]
  },
  {
   "cell_type": "code",
   "execution_count": 7,
   "id": "4c5b8b74",
   "metadata": {},
   "outputs": [],
   "source": [
    "mask = a < 0"
   ]
  },
  {
   "cell_type": "code",
   "execution_count": 114,
   "id": "cd26706c",
   "metadata": {},
   "outputs": [
    {
     "ename": "TypeError",
     "evalue": "only integer scalar arrays can be converted to a scalar index",
     "output_type": "error",
     "traceback": [
      "\u001b[0;31m---------------------------------------------------------------------------\u001b[0m",
      "\u001b[0;31mTypeError\u001b[0m                                 Traceback (most recent call last)",
      "Cell \u001b[0;32mIn[114], line 1\u001b[0m\n\u001b[0;32m----> 1\u001b[0m a[mask]\n\u001b[1;32m      2\u001b[0m (a\u001b[38;5;241m<\u001b[39m\u001b[38;5;241m0\u001b[39m)\u001b[38;5;241m.\u001b[39msum()\n",
      "\u001b[0;31mTypeError\u001b[0m: only integer scalar arrays can be converted to a scalar index"
     ]
    }
   ],
   "source": [
    "a[mask]\n",
    "(a<0).sum()"
   ]
  },
  {
   "cell_type": "code",
   "execution_count": 11,
   "id": "db9f0120",
   "metadata": {},
   "outputs": [
    {
     "data": {
      "text/plain": [
       "array([ 4, 10, 12, 23,  3])"
      ]
     },
     "execution_count": 11,
     "metadata": {},
     "output_type": "execute_result"
    }
   ],
   "source": [
    "mask2 = a > 0\n",
    "a[mask2]"
   ]
  },
  {
   "cell_type": "code",
   "execution_count": 13,
   "id": "f601e1a2",
   "metadata": {},
   "outputs": [
    {
     "data": {
      "text/plain": [
       "array([ 4, 10, 12])"
      ]
     },
     "execution_count": 13,
     "metadata": {},
     "output_type": "execute_result"
    }
   ],
   "source": [
    "mask3 = (a > 0) & (a % 2 == 0)\n",
    "a[mask3]"
   ]
  },
  {
   "cell_type": "code",
   "execution_count": 119,
   "id": "c430e13b",
   "metadata": {},
   "outputs": [
    {
     "data": {
      "text/plain": [
       "10"
      ]
     },
     "execution_count": 119,
     "metadata": {},
     "output_type": "execute_result"
    }
   ],
   "source": [
    "((a + 3) > 0).sum()"
   ]
  },
  {
   "cell_type": "code",
   "execution_count": 36,
   "id": "767fb789",
   "metadata": {},
   "outputs": [
    {
     "name": "stdout",
     "output_type": "stream",
     "text": [
      "144.0243035046516\n",
      "74.0\n"
     ]
    }
   ],
   "source": [
    "\n",
    "mask5 = a ** 2\n",
    "print(np.std(mask5))\n",
    "print(np.mean(mask5))"
   ]
  },
  {
   "cell_type": "code",
   "execution_count": 38,
   "id": "35b82515",
   "metadata": {},
   "outputs": [
    {
     "name": "stdout",
     "output_type": "stream",
     "text": [
      "[  1.   7.   9.  20.  -5.  -4.  -3.  -3.  -3.  -9.   0. -10.]\n"
     ]
    }
   ],
   "source": [
    "mean_a = np.mean(a)\n",
    "centered_a = a - np.mean(a)\n",
    "print(centered_a)"
   ]
  },
  {
   "cell_type": "code",
   "execution_count": 44,
   "id": "c4620ac7",
   "metadata": {
    "scrolled": true
   },
   "outputs": [
    {
     "data": {
      "text/plain": [
       "array([ 0.12403473,  0.86824314,  1.11631261,  2.48069469, -0.62017367,\n",
       "       -0.49613894, -0.3721042 , -0.3721042 , -0.3721042 , -1.11631261,\n",
       "        0.        , -1.24034735])"
      ]
     },
     "execution_count": 44,
     "metadata": {},
     "output_type": "execute_result"
    }
   ],
   "source": [
    "(a - mean_a)/(a.std())\n",
    "#z score is "
   ]
  },
  {
   "cell_type": "code",
   "execution_count": 87,
   "id": "16d6f6f9",
   "metadata": {},
   "outputs": [
    {
     "name": "stdout",
     "output_type": "stream",
     "text": [
      "(2, 3)\n"
     ]
    }
   ],
   "source": [
    "import numpy as np\n",
    "# Life w/o numpy to life with numpy\n",
    "\n",
    "## Setup 1\n",
    "a = [1, 2, 3, 4, 5, 6, 7, 8, 9, 10]\n",
    "my_a = np.array(a)\n",
    "\n",
    "# Use python's built in functionality/operators to determine the following:\n",
    "# Exercise 1 - Make a variable called sum_of_a to hold the sum of all the numbers in above list\n",
    "sum_of_a = np.sum(my_a)\n",
    "# Exercise 2 - Make a variable named min_of_a to hold the minimum of all the numbers in the above list\n",
    "min_of_a = np.min(my_a)\n",
    "# Exercise 3 - Make a variable named max_of_a to hold the max number of all the numbers in the above list\n",
    "max_of_a = np.max(my_a)\n",
    "# Exercise 4 - Make a variable named mean_of_a to hold the average of all the numbers in the above list\n",
    "mean_of_a = np.mean(my_a)\n",
    "# Exercise 5 - Make a variable named product_of_a to hold the product of multiplying all the numbers in the above list together\n",
    "product_of_a = np.prod(my_a)\n",
    "\n",
    "for i in a:\n",
    "    print(i)\n",
    "    product_of_a *=i\n",
    "product_of_a\n",
    "# Exercise 6 - Make a variable named squares_of_a. It should hold each number in a squared like [1, 4, 9, 16, 25...]\n",
    "squares_of_a = np.square(my_a)\n",
    "# Exercise 7 - Make a variable named odds_in_a. It should hold only the odd numbers\n",
    "odds_in_a = (my_a % 2 == 1)\n",
    "# Exercise 8 - Make a variable named evens_in_a. It should hold only the evens.\n",
    "evens_in_a = (my_a % 2 == 0)\n",
    "## What about life in two dimensions? A list of lists is matrix, a table, a spreadsheet, a chessboard...\n",
    "## Setup 2: Consider what it would take to find the sum, min, max, average, sum, product, and list of squares for this list of two lists.\n",
    "b = [\n",
    "    [3, 4, 5],\n",
    "    [6, 7, 8]\n",
    "]\n",
    "matb = np.array(b)\n",
    "# Exercise 1 - refactor the following to use numpy. Use sum_of_b as the variable. **Hint, you'll first need to make sure that the \"b\" variable is a numpy array**\n",
    "\n",
    "\n",
    "sum_of_b = 0\n",
    "for row in b:\n",
    "    sum_of_b += sum(row)\n",
    "matb.sum()\n",
    "\n",
    "# Exercise 2 - refactor the following to use numpy. \n",
    "min_of_b = min(b[0]) if min(b[0]) <= min(b[1]) else min(b[1])  \n",
    "matb.min()\n",
    "# Exercise 3 - refactor the following maximum calculation to find the answer with numpy.\n",
    "max_of_b = max(b[0]) if max(b[0]) >= max(b[1]) else max(b[1])\n",
    "matb.max()\n",
    "\n",
    "# Exercise 4 - refactor the following using numpy to find the mean of b\n",
    "mean_of_b = (sum(b[0]) + sum(b[1])) / (len(b[0]) + len(b[1]))\n",
    "matb.mean()\n",
    "# Exercise 5 - refactor the following to use numpy for calculating the product of all numbers multiplied together.\n",
    "product_of_b = 1\n",
    "for row in b:\n",
    "    for number in row:\n",
    "        product_of_b *= number\n",
    "np.prod(matb)\n",
    "# Exercise 6 - refactor the following to use numpy to find the list of squares \n",
    "squares_of_b = []\n",
    "for row in b:\n",
    "    for number in row:\n",
    "        squares_of_b.append(number**2)\n",
    "np.square(matb)\n",
    "\n",
    "# Exercise 7 - refactor using numpy to determine the odds_in_b\n",
    "odds_in_b = []\n",
    "for row in b:\n",
    "    for number in row:\n",
    "        if(number % 2 != 0):\n",
    "            odds_in_b.append(number)\n",
    "\n",
    "odds = matb[(matb % 2 == 1)]\n",
    "# Exercise 8 - refactor the following to use numpy to filter only the even numbers\n",
    "evens_in_b = []\n",
    "for row in b:\n",
    "    for number in row:\n",
    "        if(number % 2 == 0):\n",
    "            evens_in_b.append(number)\n",
    "evens = matb[(matb % 2 == 0)]\n",
    "# Exercise 9 - print out the shape of the array b.\n",
    "print(matb.shape)\n",
    "# Exercise 10 - transpose the array b.\n",
    "transb = matb.transpose()\n",
    "# Exercise 11 - reshape the array b to be a single list of 6 numbers. (1 x 6)\n",
    "reshape16 = matb.reshape(1,6)\n",
    "# Exercise 12 - reshape the array b to be a list of 6 lists, each containing only 1 number (6 x 1)\n",
    "reshape61 = matb.reshape(6,1)\n",
    "## Setup 3\n",
    "c = [\n",
    "    [1, 2, 3],\n",
    "    [4, 5, 6],\n",
    "    [7, 8, 9]\n",
    "]\n",
    "matc = np.array(c)\n",
    "# HINT, you'll first need to make sure that the \"c\" variable is a numpy array prior to using numpy array methods.\n",
    "# Exercise 1 - Find the min, max, sum, and product of c.\n",
    "matc.min()\n",
    "matc.max()\n",
    "matc.sum()\n",
    "matc.prod()\n",
    "# Exercise 2 - Determine the standard deviation of c.\n",
    "matc.std()\n",
    "# Exercise 3 - Determine the variance of c.\n",
    "matc.var()\n",
    "# Exercise 4 - Print out the shape of the array c\n",
    "print(matc.shape)\n",
    "# Exercise 5 - Transpose c and print out transposed result.\n",
    "transc = matc.transpose()\n",
    "print(transc)\n",
    "# Exercise 6 - Get the dot product of the array c with c. \n",
    "np.dot(matc, c)\n",
    "# Exercise 7 - Write the code necessary to sum up the result of c times c transposed. Answer should be 261\n",
    "sum(sum(c*transc))\n",
    "# Exercise 8 - Write the code necessary to determine the product of c times c transposed. Answer should be 131681894400.\n",
    "np.prod(np.prod(c*transc))\n",
    "\n",
    "## Setup 4\n",
    "d = [\n",
    "    [90, 30, 45, 0, 120, 180],\n",
    "    [45, -90, -30, 270, 90, 0],\n",
    "    [60, 45, -45, 90, -45, 180]\n",
    "]\n",
    "\n",
    "# Exercise 1 - Find the sine of all the numbers in d\n",
    "np.sin(matd)\n",
    "# Exercise 2 - Find the cosine of all the numbers in d\n",
    "np.cos(matd)\n",
    "# Exercise 3 - Find the tangent of all the numbers in d\n",
    "np.tan(matd)\n",
    "# Exercise 4 - Find all the negative numbers in d\n",
    "matd[matd < 0]\n",
    "# Exercise 5 - Find all the positive numbers in d\n",
    "matd[matd >= 0]\n",
    "# Exercise 6 - Return an array of only the unique numbers in d.\n",
    "np.unique(matd)\n",
    "# Exercise 7 - Determine how many unique numbers there are in d.\n",
    "count = np.count_nonzero(matd) # don't use this as it doesn't count zero \n",
    "len(np.unique(matd))\n",
    "print(count)\n",
    "# Exercise 8 - Print out the shape of d.\n",
    "print(matd.shape)\n",
    "# Exercise 9 - Transpose and then print out the shape of d.\n",
    "transd = matd.transpose()\n",
    "print(transd)\n",
    "# Exercise 10 - Reshape d into an array of 9 x 2\n",
    "reshapd=matd.reshape(9,2)\n",
    "print(reshapd)"
   ]
  },
  {
   "cell_type": "code",
   "execution_count": 120,
   "id": "3cd6d3a5",
   "metadata": {},
   "outputs": [
    {
     "data": {
      "text/plain": [
       "array([[ 9, 16, 25],\n",
       "       [36, 49, 64]])"
      ]
     },
     "execution_count": 120,
     "metadata": {},
     "output_type": "execute_result"
    }
   ],
   "source": [
    "np.square(matb)"
   ]
  }
 ],
 "metadata": {
  "kernelspec": {
   "display_name": "Python 3 (ipykernel)",
   "language": "python",
   "name": "python3"
  },
  "language_info": {
   "codemirror_mode": {
    "name": "ipython",
    "version": 3
   },
   "file_extension": ".py",
   "mimetype": "text/x-python",
   "name": "python",
   "nbconvert_exporter": "python",
   "pygments_lexer": "ipython3",
   "version": "3.11.5"
  }
 },
 "nbformat": 4,
 "nbformat_minor": 5
}
