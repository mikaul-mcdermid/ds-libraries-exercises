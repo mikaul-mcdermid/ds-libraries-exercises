{
 "cells": [
  {
   "cell_type": "code",
   "execution_count": 2,
   "id": "f843fc4b",
   "metadata": {},
   "outputs": [],
   "source": [
    "import pandas as pd"
   ]
  },
  {
   "cell_type": "code",
   "execution_count": 230,
   "id": "624781f8",
   "metadata": {},
   "outputs": [
    {
     "data": {
      "text/plain": [
       "pandas.core.series.Series"
      ]
     },
     "execution_count": 230,
     "metadata": {},
     "output_type": "execute_result"
    }
   ],
   "source": [
    "fruits = [\"kiwi\", \"mango\", \"strawberry\", \"pineapple\", \"gala apple\", \"honeycrisp apple\", \"tomato\", \"watermelon\", \"honeydew\", \"kiwi\", \"kiwi\", \"kiwi\", \"mango\", \"blueberry\", \"blackberry\", \"gooseberry\", \"papaya\"]\n",
    "fruits_series = pd.Series(fruits)\n",
    "type(fruits_series)"
   ]
  },
  {
   "cell_type": "code",
   "execution_count": 12,
   "id": "ab9d76f7",
   "metadata": {},
   "outputs": [
    {
     "data": {
      "text/plain": [
       "17"
      ]
     },
     "execution_count": 12,
     "metadata": {},
     "output_type": "execute_result"
    }
   ],
   "source": [
    "# Determine the number of elements in fruits.\n",
    "fruits_series.count()"
   ]
  },
  {
   "cell_type": "code",
   "execution_count": 214,
   "id": "d9347734",
   "metadata": {},
   "outputs": [
    {
     "data": {
      "text/plain": [
       "[0, 1, 2, 3, 4, 5, 6, 7, 8, 9, 10, 11, 12, 13, 14, 15, 16]"
      ]
     },
     "execution_count": 214,
     "metadata": {},
     "output_type": "execute_result"
    }
   ],
   "source": [
    "# Output only the index from fruits.\n",
    "fruits_series.index\n",
    "list(fruits_series.index)"
   ]
  },
  {
   "cell_type": "code",
   "execution_count": 231,
   "id": "6e2ede68",
   "metadata": {},
   "outputs": [
    {
     "data": {
      "text/plain": [
       "array(['kiwi', 'mango', 'strawberry', 'pineapple', 'gala apple',\n",
       "       'honeycrisp apple', 'tomato', 'watermelon', 'honeydew', 'kiwi',\n",
       "       'kiwi', 'kiwi', 'mango', 'blueberry', 'blackberry', 'gooseberry',\n",
       "       'papaya'], dtype=object)"
      ]
     },
     "execution_count": 231,
     "metadata": {},
     "output_type": "execute_result"
    }
   ],
   "source": [
    "# Output only the values from fruits.\n",
    "fruits_series.values"
   ]
  },
  {
   "cell_type": "code",
   "execution_count": 19,
   "id": "12e21165",
   "metadata": {},
   "outputs": [
    {
     "data": {
      "text/plain": [
       "dtype('O')"
      ]
     },
     "execution_count": 19,
     "metadata": {},
     "output_type": "execute_result"
    }
   ],
   "source": [
    "# Confirm the data type of the values in fruits.\n",
    "fruits_series.dtype"
   ]
  },
  {
   "cell_type": "code",
   "execution_count": 23,
   "id": "f4dc96cd",
   "metadata": {},
   "outputs": [
    {
     "data": {
      "text/plain": [
       "3    pineapple\n",
       "8     honeydew\n",
       "dtype: object"
      ]
     },
     "execution_count": 23,
     "metadata": {},
     "output_type": "execute_result"
    }
   ],
   "source": [
    "# Output only the first five values from fruits. Output the last three values. Output two random values from fruits\n",
    "fruits_series.head() #outputs first 5\n",
    "fruits_series.tail(3) #normally outputs the last 5 but you can choose 1-5\n",
    "fruits_series.sample(2) #outputs random (based on how many you choose)"
   ]
  },
  {
   "cell_type": "code",
   "execution_count": 29,
   "id": "d0c816e2",
   "metadata": {},
   "outputs": [
    {
     "data": {
      "text/plain": [
       "count       17\n",
       "unique      13\n",
       "top       kiwi\n",
       "freq         4\n",
       "dtype: object"
      ]
     },
     "execution_count": 29,
     "metadata": {},
     "output_type": "execute_result"
    }
   ],
   "source": [
    "# Run the .describe() on fruits to see what information it returns when called on a Series with string values.\n",
    "fruits_series.describe()"
   ]
  },
  {
   "cell_type": "code",
   "execution_count": 33,
   "id": "7185c397",
   "metadata": {},
   "outputs": [
    {
     "data": {
      "text/plain": [
       "array(['kiwi', 'mango', 'strawberry', 'pineapple', 'gala apple',\n",
       "       'honeycrisp apple', 'tomato', 'watermelon', 'honeydew',\n",
       "       'blueberry', 'blackberry', 'gooseberry', 'papaya'], dtype=object)"
      ]
     },
     "execution_count": 33,
     "metadata": {},
     "output_type": "execute_result"
    }
   ],
   "source": [
    "# Run the code necessary to produce only the unique string values from fruits.\n",
    "fruits_series.unique()\n",
    "#there is also .nunique() which shows the number of unique string values instead of listing them"
   ]
  },
  {
   "cell_type": "code",
   "execution_count": 42,
   "id": "cc0d9cd0",
   "metadata": {},
   "outputs": [
    {
     "name": "stdout",
     "output_type": "stream",
     "text": [
      "kiwi                4\n",
      "mango               2\n",
      "strawberry          1\n",
      "pineapple           1\n",
      "gala apple          1\n",
      "honeycrisp apple    1\n",
      "tomato              1\n",
      "watermelon          1\n",
      "honeydew            1\n",
      "blueberry           1\n",
      "blackberry          1\n",
      "gooseberry          1\n",
      "papaya              1\n",
      "Name: count, dtype: int64\n"
     ]
    }
   ],
   "source": [
    "# Determine how many times each unique string value occurs in fruits.\n",
    "uniq_fruitcounts = fruits_series.value_counts()\n",
    "print(uniq_fruitcounts)"
   ]
  },
  {
   "cell_type": "code",
   "execution_count": 43,
   "id": "c0b47821",
   "metadata": {},
   "outputs": [
    {
     "data": {
      "text/plain": [
       "0    kiwi\n",
       "dtype: object"
      ]
     },
     "execution_count": 43,
     "metadata": {},
     "output_type": "execute_result"
    }
   ],
   "source": [
    "# Determine the string value that occurs most frequently in fruits.\n",
    "fruits_series.mode()"
   ]
  },
  {
   "cell_type": "code",
   "execution_count": 216,
   "id": "4a954253",
   "metadata": {},
   "outputs": [
    {
     "name": "stdout",
     "output_type": "stream",
     "text": [
      "['strawberry', 'pineapple', 'gala apple', 'honeycrisp apple', 'tomato', 'watermelon', 'honeydew', 'blueberry', 'blackberry', 'gooseberry', 'papaya']\n"
     ]
    }
   ],
   "source": [
    "# Determine the string value that occurs least frequently in fruits.\n",
    "# fruits_series.min() # this only gives one value but I want all of them\n",
    "uniq_fruitcounts_1 = uniq_fruitcounts[uniq_fruitcounts== 1]\n",
    "print(uniq_fruitcounts_1.index.tolist())\n",
    "# fruits_series.sort_values().value_counts().nsmallest(n=1,keep='last')"
   ]
  },
  {
   "cell_type": "code",
   "execution_count": 50,
   "id": "e611a552",
   "metadata": {},
   "outputs": [
    {
     "name": "stdout",
     "output_type": "stream",
     "text": [
      "Fruits that occur only once: ['strawberry', 'pineapple', 'gala apple', 'honeycrisp apple', 'tomato', 'watermelon', 'honeydew', 'blueberry', 'blackberry', 'gooseberry', 'papaya']\n"
     ]
    }
   ],
   "source": [
    "import pandas as pd\n",
    "\n",
    "fruits_series = [\"kiwi\", \"mango\", \"strawberry\", \"pineapple\", \"gala apple\", \"honeycrisp apple\", \"tomato\", \"watermelon\", \"honeydew\", \"kiwi\", \"kiwi\", \"kiwi\", \"mango\", \"blueberry\", \"blackberry\", \"gooseberry\", \"papaya\"]\n",
    "\n",
    "# Create a Pandas Series\n",
    "series = pd.Series(fruits_series)\n",
    "\n",
    "# Get the unique values and their counts\n",
    "unique_counts = series.value_counts()\n",
    "\n",
    "# Filter for values with a count of 1\n",
    "unique_values_with_count_1 = unique_counts[unique_counts == 1]\n",
    "\n",
    "# Print the result\n",
    "print(\"Fruits that occur only once:\", unique_values_with_count_1.index.tolist())\n"
   ]
  },
  {
   "cell_type": "markdown",
   "id": "9a7989b8",
   "metadata": {},
   "source": [
    "Part II"
   ]
  },
  {
   "cell_type": "markdown",
   "id": "4fe1fb6a",
   "metadata": {},
   "source": [
    "Capitalize all the string values in fruits.\n",
    "\n",
    "Count the letter \"a\" in all the string values (use string vectorization).\n",
    "\n",
    "Output the number of vowels in each and every string value.\n",
    "\n",
    "Write the code to get the longest string value from fruits.\n",
    "\n",
    "Write the code to get the string values with 5 or more letters in the name.\n",
    "\n",
    "Find the fruit(s) containing the letter \"o\" two or more times.\n",
    "\n",
    "Write the code to get only the string values containing the substring \"berry\".\n",
    "\n",
    "Write the code to get only the string values containing the substring \"apple\".\n",
    "\n",
    "Which string value contains the most vowels?"
   ]
  },
  {
   "cell_type": "code",
   "execution_count": 232,
   "id": "ca56308a",
   "metadata": {},
   "outputs": [
    {
     "data": {
      "text/plain": [
       "0                 Kiwi\n",
       "1                Mango\n",
       "2           Strawberry\n",
       "3            Pineapple\n",
       "4           Gala apple\n",
       "5     Honeycrisp apple\n",
       "6               Tomato\n",
       "7           Watermelon\n",
       "8             Honeydew\n",
       "9                 Kiwi\n",
       "10                Kiwi\n",
       "11                Kiwi\n",
       "12               Mango\n",
       "13           Blueberry\n",
       "14          Blackberry\n",
       "15          Gooseberry\n",
       "16              Papaya\n",
       "dtype: object"
      ]
     },
     "execution_count": 232,
     "metadata": {},
     "output_type": "execute_result"
    }
   ],
   "source": [
    "# Capitalize all the string values in fruits.\n",
    "#fruits_series = fruits_series.str.upper()\n",
    "fruits_series\n",
    "fruits_series.str.capitalize()"
   ]
  },
  {
   "cell_type": "code",
   "execution_count": 219,
   "id": "2b635ba6",
   "metadata": {},
   "outputs": [
    {
     "data": {
      "text/plain": [
       "0                 KIWI count of a: 0\n",
       "1                MANGO count of a: 0\n",
       "2           STRAWBERRY count of a: 0\n",
       "3            PINEAPPLE count of a: 0\n",
       "4           GALA APPLE count of a: 0\n",
       "5     HONEYCRISP APPLE count of a: 0\n",
       "6               TOMATO count of a: 0\n",
       "7           WATERMELON count of a: 0\n",
       "8             HONEYDEW count of a: 0\n",
       "9                 KIWI count of a: 0\n",
       "10                KIWI count of a: 0\n",
       "11                KIWI count of a: 0\n",
       "12               MANGO count of a: 0\n",
       "13           BLUEBERRY count of a: 0\n",
       "14          BLACKBERRY count of a: 0\n",
       "15          GOOSEBERRY count of a: 0\n",
       "16              PAPAYA count of a: 0\n",
       "dtype: object"
      ]
     },
     "execution_count": 219,
     "metadata": {},
     "output_type": "execute_result"
    }
   ],
   "source": [
    "# Count the letter \"a\" in all the string values (use string vectorization).\n",
    "# count_a = fruits_series.str.count(r'a', flags=re.IGRNORECASE)\n",
    "# print(count_a)\n",
    "# for fruits in fruits_series:\n",
    "#     cnt = fruits_series.count('a')\n",
    "#     print\n",
    "def count_a(string):\n",
    "    return f'{string} count of a: ' + str(string.count('a'))\n",
    "fruits_series.apply(count_a)"
   ]
  },
  {
   "cell_type": "code",
   "execution_count": 72,
   "id": "6da28b4d",
   "metadata": {},
   "outputs": [
    {
     "name": "stdout",
     "output_type": "stream",
     "text": [
      "0     0\n",
      "1     1\n",
      "2     1\n",
      "3     1\n",
      "4     3\n",
      "5     1\n",
      "6     1\n",
      "7     1\n",
      "8     0\n",
      "9     0\n",
      "10    0\n",
      "11    0\n",
      "12    1\n",
      "13    0\n",
      "14    1\n",
      "15    0\n",
      "16    3\n",
      "dtype: int64\n"
     ]
    }
   ],
   "source": [
    "import pandas as pd\n",
    "import re\n",
    "fruits_series = pd.Series([\"kiwi\", \"mango\", \"strawberry\", \"pineapple\", \"gala apple\", \"honeycrisp apple\", \"tomato\", \"watermelon\", \"honeydew\", \"kiwi\", \"kiwi\", \"kiwi\", \"mango\", \"blueberry\", \"blackberry\", \"gooseberry\", \"papaya\"])\n",
    "\n",
    "# Count both uppercase and lowercase \"a\" using a case-insensitive regular expression\n",
    "count_a = fruits_series.str.count(r'a', flags=re.IGNORECASE)\n",
    "\n",
    "print(count_a)\n"
   ]
  },
  {
   "cell_type": "code",
   "execution_count": 225,
   "id": "e9faadc9",
   "metadata": {},
   "outputs": [
    {
     "name": "stdout",
     "output_type": "stream",
     "text": [
      "HONEYCRISP APPLE\n"
     ]
    }
   ],
   "source": [
    "# Write the code to get the longest string value from fruits.\n",
    "longest_fruit = max(fruits_series, key=len)\n",
    "print(longest_fruit)\n",
    "# fruits_series[fruits_series.srt.len() == fruits.str().len().max()]"
   ]
  },
  {
   "cell_type": "code",
   "execution_count": 74,
   "id": "b9add4fe",
   "metadata": {},
   "outputs": [
    {
     "name": "stdout",
     "output_type": "stream",
     "text": [
      "1                mango\n",
      "2           strawberry\n",
      "3            pineapple\n",
      "4           gala apple\n",
      "5     honeycrisp apple\n",
      "6               tomato\n",
      "7           watermelon\n",
      "8             honeydew\n",
      "12               mango\n",
      "13           blueberry\n",
      "14          blackberry\n",
      "15          gooseberry\n",
      "16              papaya\n",
      "dtype: object\n"
     ]
    }
   ],
   "source": [
    "# Write the code to get the string values with 5 or more letters in the name.\n",
    "five_or_more = fruits_series[fruits_series.str.len() >= 5]\n",
    "print(five_or_more)"
   ]
  },
  {
   "cell_type": "code",
   "execution_count": 233,
   "id": "cfe46ef0",
   "metadata": {},
   "outputs": [
    {
     "name": "stdout",
     "output_type": "stream",
     "text": [
      "6         tomato\n",
      "15    gooseberry\n",
      "dtype: object\n"
     ]
    },
    {
     "data": {
      "text/plain": [
       "6         tomato\n",
       "15    gooseberry\n",
       "dtype: object"
      ]
     },
     "execution_count": 233,
     "metadata": {},
     "output_type": "execute_result"
    }
   ],
   "source": [
    "# Find the fruit(s) containing the letter \"o\" two or more times.\n",
    "result = fruits_series[fruits_series.str.count('o') >= 2]\n",
    "print(result)\n",
    "fruits_series[fruits_series.str.lower().str.count('o') >= 2]"
   ]
  },
  {
   "cell_type": "code",
   "execution_count": 78,
   "id": "417014c0",
   "metadata": {},
   "outputs": [
    {
     "name": "stdout",
     "output_type": "stream",
     "text": [
      "2     strawberry\n",
      "13     blueberry\n",
      "14    blackberry\n",
      "15    gooseberry\n",
      "dtype: object\n"
     ]
    }
   ],
   "source": [
    "# Write the code to get only the string values containing the substring \"berry\".\n",
    "result = fruits_series[fruits_series.str.count('berry') > 0]\n",
    "print(result)\n",
    "#str.lower().str.contains('berry') also works and is way less typing\n"
   ]
  },
  {
   "cell_type": "code",
   "execution_count": 79,
   "id": "94903270",
   "metadata": {},
   "outputs": [
    {
     "name": "stdout",
     "output_type": "stream",
     "text": [
      "3           pineapple\n",
      "4          gala apple\n",
      "5    honeycrisp apple\n",
      "dtype: object\n"
     ]
    }
   ],
   "source": [
    "# Write the code to get only the string values containing the substring \"apple\".\n",
    "result = fruits_series[fruits_series.str.count('apple') > 0]\n",
    "print(result)"
   ]
  },
  {
   "cell_type": "code",
   "execution_count": 234,
   "id": "ee706324",
   "metadata": {},
   "outputs": [
    {
     "name": "stdout",
     "output_type": "stream",
     "text": [
      "honeycrisp apple\n"
     ]
    }
   ],
   "source": [
    "# Which string value contains the most vowels?\n",
    "def count_vowels(string):\n",
    "    return sum(1 for char in string if char.lower() in 'aeiou')\n",
    "vowel_counts = fruits_series.apply(count_vowels)\n",
    "result = fruits_series[vowel_counts.idxmax()]\n",
    "print(result)"
   ]
  },
  {
   "cell_type": "code",
   "execution_count": 235,
   "id": "97701947",
   "metadata": {},
   "outputs": [
    {
     "data": {
      "text/plain": [
       "'honeycrisp apple'"
      ]
     },
     "execution_count": 235,
     "metadata": {},
     "output_type": "execute_result"
    }
   ],
   "source": [
    "fruits_series[fruits_series.str.count('a|e|i|o|u').max()]"
   ]
  },
  {
   "cell_type": "code",
   "execution_count": 241,
   "id": "bc356aaf",
   "metadata": {},
   "outputs": [
    {
     "name": "stdout",
     "output_type": "stream",
     "text": [
      "0      h\n",
      "1      n\n",
      "2      v\n",
      "3      i\n",
      "4      d\n",
      "      ..\n",
      "195    r\n",
      "196    o\n",
      "197    g\n",
      "198    u\n",
      "199    y\n",
      "Length: 200, dtype: object\n"
     ]
    },
    {
     "data": {
      "text/plain": [
       "count     200\n",
       "unique     26\n",
       "top         y\n",
       "freq       13\n",
       "dtype: object"
      ]
     },
     "execution_count": 241,
     "metadata": {},
     "output_type": "execute_result"
    }
   ],
   "source": [
    "text = 'hnvidduckkqxwymbimkccexbkmqygkxoyndmcxnwqarhyffsjpsrabtjzsypmzadfavyrnndndvswreauxovncxtwzpwejilzjrmmbbgbyxvjtewqthafnbkqplarokkyydtubbmnexoypulzwfhqvckdpqtpoppzqrmcvhhpwgjwupgzhiofohawytlsiyecuproguy'\n",
    "letters = pd.Series([char for char in text])\n",
    "print(letters)\n",
    "letters.describe()"
   ]
  },
  {
   "cell_type": "code",
   "execution_count": 101,
   "id": "37f380ba",
   "metadata": {},
   "outputs": [
    {
     "name": "stdout",
     "output_type": "stream",
     "text": [
      "The letter that occurs most frequently is: y\n"
     ]
    }
   ],
   "source": [
    "# Which letter occurs the most frequently in the letters Series?\n",
    "letter_counts = letters.value_counts()\n",
    "most_frequent_letter = letter_counts.idxmax()\n",
    "\n",
    "print(\"The letter that occurs most frequently is:\", most_frequent_letter)\n"
   ]
  },
  {
   "cell_type": "code",
   "execution_count": 102,
   "id": "1a0046e8",
   "metadata": {},
   "outputs": [
    {
     "name": "stdout",
     "output_type": "stream",
     "text": [
      "The letter that occurs least frequently is: l\n"
     ]
    }
   ],
   "source": [
    "# Which letter occurs the least frequently in the letters Series?\n",
    "letter_counts = letters.value_counts()\n",
    "results = letter_counts.idxmin()\n",
    "\n",
    "print(\"The letter that occurs least frequently is:\", results)"
   ]
  },
  {
   "cell_type": "code",
   "execution_count": 109,
   "id": "0e6114bb",
   "metadata": {},
   "outputs": [
    {
     "name": "stdout",
     "output_type": "stream",
     "text": [
      "34\n"
     ]
    }
   ],
   "source": [
    "#How many vowels are in the Series?\n",
    "def is_vowel(string):\n",
    "    return sum(1 for char in string if char.lower() in ('aeiou'))\n",
    "vowel_count = letters.apply(is_vowel)\n",
    "result = vowel_count.sum()\n",
    "print(result)\n"
   ]
  },
  {
   "cell_type": "code",
   "execution_count": 242,
   "id": "62ae26f4",
   "metadata": {},
   "outputs": [
    {
     "data": {
      "text/plain": [
       "-234"
      ]
     },
     "execution_count": 242,
     "metadata": {},
     "output_type": "execute_result"
    }
   ],
   "source": [
    "# #How many consonants are in the Series?\n",
    "# def is_consonant(string):\n",
    "#     return sum(1 for char in string if char.lower() not in ('aeiou'))\n",
    "# consonant_count = letters.apply(is_consonant)\n",
    "# result = consonant_count.sum()\n",
    "# print(result)\n",
    "(~letters.str.lower().apply(count_vowels)).sum()"
   ]
  },
  {
   "cell_type": "code",
   "execution_count": 114,
   "id": "bd3a3b3a",
   "metadata": {},
   "outputs": [
    {
     "data": {
      "text/plain": [
       "0      H\n",
       "1      N\n",
       "2      V\n",
       "3      I\n",
       "4      D\n",
       "      ..\n",
       "195    R\n",
       "196    O\n",
       "197    G\n",
       "198    U\n",
       "199    Y\n",
       "Length: 200, dtype: object"
      ]
     },
     "execution_count": 114,
     "metadata": {},
     "output_type": "execute_result"
    }
   ],
   "source": [
    "# Create a Series that has all of the same letters but uppercased.\n",
    "letters.str.upper()"
   ]
  },
  {
   "cell_type": "code",
   "execution_count": 244,
   "id": "e3fbf417",
   "metadata": {},
   "outputs": [
    {
     "data": {
      "image/png": "[encoded data removed]",
      "text/plain": [
       "<Figure size 640x480 with 1 Axes>"
      ]
     },
     "metadata": {},
     "output_type": "display_data"
    }
   ],
   "source": [
    "# Create a bar plot of the frequencies of the 6 most commonly occuring letters.\n",
    "import matplotlib.pyplot as plt\n",
    "\n",
    "text = 'hnvidduckkqxwymbimkccexbkmqygkxoyndmcxnwqarhyffsjpsrabtjzsypmzadfavyrnndndvswreauxovncxtwzpwejilzjrmmbbgbyxvjtewqthafnbkqplarokkyydtubbmnexoypulzwfhqvckdpqtpoppzqrmcvhhpwgjwupgzhiofohawytlsiyecuproguy'\n",
    "letters = pd.Series([char for char in text])\n",
    "\n",
    "letter_counts = letters.value_counts().head(6)\n",
    "letter_counts.plot(kind='bar')\n",
    "plt.xlabel('Letters')\n",
    "plt.ylabel('Frequency')\n",
    "plt.title('Top 6 Most Commonly Occurring Letters')\n",
    "plt.show()\n"
   ]
  },
  {
   "cell_type": "code",
   "execution_count": 172,
   "id": "59815389",
   "metadata": {},
   "outputs": [],
   "source": [
    "numbers = pd.Seriesnumbers = pd.Series(['$796,459.41', '$278.60', '$482,571.67', '$4,503,915.98', '$2,121,418.3', '$1,260,813.3', '$87,231.01', '$1,509,175.45', '$4,138,548.00', '$2,848,913.80', '$594,715.39', '$4,789,988.17', '$4,513,644.5', '$3,191,059.97', '$1,758,712.24', '$4,338,283.54', '$4,738,303.38', '$2,791,759.67', '$769,681.94', '$452,650.23'])"
   ]
  },
  {
   "cell_type": "code",
   "execution_count": 138,
   "id": "e5ddd184",
   "metadata": {},
   "outputs": [
    {
     "data": {
      "text/plain": [
       "dtype('O')"
      ]
     },
     "execution_count": 138,
     "metadata": {},
     "output_type": "execute_result"
    }
   ],
   "source": [
    "# What is the data type of the numbers Series?\n",
    "numbers.dtype"
   ]
  },
  {
   "cell_type": "code",
   "execution_count": 173,
   "id": "366b938d",
   "metadata": {},
   "outputs": [
    {
     "name": "stdout",
     "output_type": "stream",
     "text": [
      "20\n"
     ]
    }
   ],
   "source": [
    "# How many elements are in the number Series?\n",
    "numbers = pd.Series(['796,459.41','278.60','482,571.67','4,503,915.98','2,121,418.3',\n",
    "                     '1,260,813.3','87,231.01','1,509,175.45','4,138,548.00','2,848,913.80',\n",
    "                     '594,715.39','4,789,988.17','4,513,644.5','3,191,059.97','1,758,712.24',\n",
    "                     '4,338,283.54','4,738,303.38','2,791,759.67','769,681.94','452,650.23'])\n",
    "num_elements = numbers.count()\n",
    "print(num_elements)"
   ]
  },
  {
   "cell_type": "code",
   "execution_count": 174,
   "id": "3d1acc55",
   "metadata": {},
   "outputs": [
    {
     "name": "stdout",
     "output_type": "stream",
     "text": [
      "796,459.41\n",
      "278.60\n",
      "482,571.67\n",
      "4,503,915.98\n",
      "2,121,418.3\n",
      "1,260,813.3\n",
      "87,231.01\n",
      "1,509,175.45\n",
      "4,138,548.00\n",
      "2,848,913.80\n",
      "594,715.39\n",
      "4,789,988.17\n",
      "4,513,644.5\n",
      "3,191,059.97\n",
      "1,758,712.24\n",
      "4,338,283.54\n",
      "4,738,303.38\n",
      "2,791,759.67\n",
      "769,681.94\n",
      "452,650.23\n"
     ]
    }
   ],
   "source": [
    "numbers_str = '\\n'.join(numbers)\n",
    "print(numbers_str)"
   ]
  },
  {
   "cell_type": "code",
   "execution_count": 170,
   "id": "99021795",
   "metadata": {},
   "outputs": [
    {
     "data": {
      "text/plain": [
       "20"
      ]
     },
     "execution_count": 170,
     "metadata": {},
     "output_type": "execute_result"
    }
   ],
   "source": [
    "len(numbers)"
   ]
  },
  {
   "cell_type": "code",
   "execution_count": 175,
   "id": "a5aaf944",
   "metadata": {},
   "outputs": [],
   "source": [
    "numbers = pd.to_numeric(numbers.str.replace('[\\$,]', '', regex=True), errors='coerce')"
   ]
  },
  {
   "cell_type": "code",
   "execution_count": 246,
   "id": "e5fc4750",
   "metadata": {},
   "outputs": [
    {
     "data": {
      "text/plain": [
       "4789988.17"
      ]
     },
     "execution_count": 246,
     "metadata": {},
     "output_type": "execute_result"
    }
   ],
   "source": [
    "numbers.max()"
   ]
  },
  {
   "cell_type": "code",
   "execution_count": 177,
   "id": "439196c1",
   "metadata": {},
   "outputs": [
    {
     "data": {
      "text/plain": [
       "278.6"
      ]
     },
     "execution_count": 177,
     "metadata": {},
     "output_type": "execute_result"
    }
   ],
   "source": [
    "# Run the code to discover the minimum value from the Series.\n",
    "numbers.min()"
   ]
  },
  {
   "cell_type": "code",
   "execution_count": null,
   "id": "5cb6ce4e",
   "metadata": {},
   "outputs": [],
   "source": [
    "# What is the range of the values in the Series?\n",
    "range_of_values = (numbers.min(), numbers.max())\n",
    "print(\"Range of values:\", range_of_values)"
   ]
  },
  {
   "cell_type": "code",
   "execution_count": 212,
   "id": "ebd43001",
   "metadata": {},
   "outputs": [
    {
     "data": {
      "text/plain": [
       "(-4511.11, 1197705.993]       7\n",
       "(3592560.778, 4789988.17]     6\n",
       "(1197705.993, 2395133.385]    4\n",
       "(2395133.385, 3592560.778]    3\n",
       "Name: count, dtype: int64"
      ]
     },
     "execution_count": 212,
     "metadata": {},
     "output_type": "execute_result"
    }
   ],
   "source": [
    "# Bin the data into 4 equally sized intervals or bins and output how many values fall into each bin.\n",
    "bins = pd.cut(numbers, 4)\n",
    "\n",
    "# Count how many values fall into each bin\n",
    "value_counts = pd.value_counts(bins)\n",
    "value_counts"
   ]
  },
  {
   "cell_type": "code",
   "execution_count": 213,
   "id": "8f6e6e26",
   "metadata": {},
   "outputs": [
    {
     "data": {
      "image/png": "[encoded data removed]",
      "text/plain": [
       "<Figure size 640x480 with 1 Axes>"
      ]
     },
     "metadata": {},
     "output_type": "display_data"
    }
   ],
   "source": [
    "# Plot the binned data in a meaningful way. Be sure to include a title and axis labels.\n",
    "# Plot the binned data\n",
    "value_counts.plot(kind='barh', ec='black')\n",
    "plt.title(\"Binned Data\")\n",
    "plt.xlabel(\"Count\")\n",
    "plt.ylabel(\"Bins\")\n",
    "plt.show()"
   ]
  },
  {
   "cell_type": "code",
   "execution_count": 195,
   "id": "b0af1313",
   "metadata": {},
   "outputs": [
    {
     "data": {
      "text/plain": [
       "20"
      ]
     },
     "execution_count": 195,
     "metadata": {},
     "output_type": "execute_result"
    }
   ],
   "source": [
    "# How many elements are in the exam_scores Series?\n",
    "exam_scores = pd.Series([60, 86, 75, 62, 93, 71, 60, 83, 95, 78, 65, 72, 69, 81, 96, 80, 85, 92, 82, 78])\n",
    "len(exam_scores)"
   ]
  },
  {
   "cell_type": "code",
   "execution_count": 199,
   "id": "bc876c5b",
   "metadata": {},
   "outputs": [
    {
     "name": "stdout",
     "output_type": "stream",
     "text": [
      "Minimum Score: 60\n",
      "Maximum Score: 96\n",
      "Mean Score: 78.15\n",
      "Median Score: 79.0\n"
     ]
    }
   ],
   "source": [
    "# Run the code to discover the minimum, the maximum, the mean, and the median scores for the exam_scores Series.\n",
    "# exam_scores.min() #60\n",
    "# exam_scores.max() #96\n",
    "# exam_scores.mean() #78.15\n",
    "# exam_scores.median() #79.0\n",
    "\n",
    "min_score = exam_scores.min()\n",
    "max_score = exam_scores.max()\n",
    "mean_score = exam_scores.mean()\n",
    "median_score = exam_scores.median()\n",
    "\n",
    "print(\"Minimum Score:\", min_score)\n",
    "print(\"Maximum Score:\", max_score)\n",
    "print(\"Mean Score:\", mean_score)\n",
    "print(\"Median Score:\", median_score)"
   ]
  },
  {
   "cell_type": "code",
   "execution_count": 200,
   "id": "0f1c49c5",
   "metadata": {},
   "outputs": [
    {
     "data": {
      "image/png": "[encoded data removed]",
      "text/plain": [
       "<Figure size 640x480 with 1 Axes>"
      ]
     },
     "metadata": {},
     "output_type": "display_data"
    }
   ],
   "source": [
    "# Plot the Series in a meaningful way and make sure your chart has a title and axis labels.\n",
    "exam_scores.plot(kind='hist', bins=10, edgecolor='k')\n",
    "plt.title(\"Exam Scores Distribution\")\n",
    "plt.xlabel(\"Scores\")\n",
    "plt.ylabel(\"Frequency\")\n",
    "plt.show()"
   ]
  },
  {
   "cell_type": "code",
   "execution_count": 247,
   "id": "6a695397",
   "metadata": {},
   "outputs": [
    {
     "name": "stdout",
     "output_type": "stream",
     "text": [
      "0      64\n",
      "1      90\n",
      "2      79\n",
      "3      66\n",
      "4      97\n",
      "5      75\n",
      "6      64\n",
      "7      87\n",
      "8      99\n",
      "9      82\n",
      "10     69\n",
      "11     76\n",
      "12     73\n",
      "13     85\n",
      "14    100\n",
      "15     84\n",
      "16     89\n",
      "17     96\n",
      "18     86\n",
      "19     82\n",
      "dtype: int64\n"
     ]
    }
   ],
   "source": [
    "# Write the code necessary to implement a curve for your exam_grades Series and save this as curved_grades. Add the necessary points to the highest grade to make it 100, and add the same number of points to every other score in the Series as well.\n",
    "curved_grades = exam_scores + (100 - max_score)\n",
    "print(curved_grades)"
   ]
  },
  {
   "cell_type": "code",
   "execution_count": 203,
   "id": "0bb5c569",
   "metadata": {},
   "outputs": [
    {
     "data": {
      "text/plain": [
       "0     D\n",
       "1     A\n",
       "2     C\n",
       "3     D\n",
       "4     A\n",
       "5     C\n",
       "6     D\n",
       "7     B\n",
       "8     A\n",
       "9     B\n",
       "10    D\n",
       "11    C\n",
       "12    C\n",
       "13    B\n",
       "14    A\n",
       "15    B\n",
       "16    B\n",
       "17    A\n",
       "18    B\n",
       "19    B\n",
       "dtype: object"
      ]
     },
     "execution_count": 203,
     "metadata": {},
     "output_type": "execute_result"
    }
   ],
   "source": [
    "# Use a method to convert each of the numeric values in the curved_grades Series into a categorical value of letter grades. For example, 86 should be a 'B' and 95 should be an 'A'. Save this as a Series named letter_grades.\n",
    "def assign_letter_grade(score):\n",
    "    if score >= 90:\n",
    "        return 'A'\n",
    "    elif score >= 80:\n",
    "        return 'B'\n",
    "    elif score >= 70:\n",
    "        return 'C'\n",
    "    elif score >= 60:\n",
    "        return 'D'\n",
    "    else:\n",
    "        return 'F'\n",
    "\n",
    "letter_grades = curved_grades.apply(assign_letter_grade)\n",
    "letter_grades"
   ]
  },
  {
   "cell_type": "code",
   "execution_count": 249,
   "id": "2e6c440a",
   "metadata": {},
   "outputs": [
    {
     "data": {
      "image/png": "[encoded data removed]",
      "text/plain": [
       "<Figure size 640x480 with 1 Axes>"
      ]
     },
     "metadata": {},
     "output_type": "display_data"
    }
   ],
   "source": [
    "# Plot your new categorical letter_grades Series in a meaninful way and include a title and axis labels.\n",
    "letter_grades.value_counts().sort_index().plot(kind='barh')\n",
    "plt.title(\"Letter Grades Distribution\")\n",
    "plt.xlabel(\"Letter Grades\")\n",
    "plt.ylabel(\"Frequency\")\n",
    "plt.show()"
   ]
  },
  {
   "cell_type": "code",
   "execution_count": null,
   "id": "e75d3486",
   "metadata": {},
   "outputs": [],
   "source": []
  },
  {
   "cell_type": "code",
   "execution_count": null,
   "id": "26cdf6a5",
   "metadata": {},
   "outputs": [],
   "source": []
  },
  {
   "cell_type": "code",
   "execution_count": null,
   "id": "4c798199",
   "metadata": {},
   "outputs": [],
   "source": []
  },
  {
   "cell_type": "code",
   "execution_count": null,
   "id": "9c140a6f",
   "metadata": {},
   "outputs": [],
   "source": []
  }
 ],
 "metadata": {
  "kernelspec": {
   "display_name": "Python 3 (ipykernel)",
   "language": "python",
   "name": "python3"
  },
  "language_info": {
   "codemirror_mode": {
    "name": "ipython",
    "version": 3
   },
   "file_extension": ".py",
   "mimetype": "text/x-python",
   "name": "python",
   "nbconvert_exporter": "python",
   "pygments_lexer": "ipython3",
   "version": "3.11.5"
  }
 },
 "nbformat": 4,
 "nbformat_minor": 5
}
