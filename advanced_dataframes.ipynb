{
 "cells": [
  {
   "cell_type": "markdown",
   "id": "f8a0edf5-3fd1-41f7-a9a3-e14dfc5ef2e4",
   "metadata": {},
   "source": [
    "Run python -m pip install pymysql from your terminal to install pymysql.\n",
    "\n",
    "Create a notebook or python script named advanced_dataframes to do your work in for these exercises.\n",
    "\n",
    "Run python -m pip install pymysql from your terminal to install the mysql client (any folder is fine)\n",
    "cd into your exercises folder for this module and run echo env.py >> .gitignore\n",
    "Create a function named get_db_url. It should accept a username, hostname, password, and database name and return a url connection string formatted like in the example at the start of this lesson.\n",
    "\n",
    "Use your function to obtain a connection to the employees database.\n",
    "\n",
    "Once you have successfully run a query:\n",
    "\n",
    "a. Intentionally make a typo in the database url. What kind of error message do you see?\n",
    "access denied\n",
    "\n",
    "b. Intentionally make an error in your SQL query. What does the error message look like?\n",
    "shows a SQL syntax error\n",
    "Read the employees and titles tables into two separate DataFrames.\n",
    "\n",
    "How many rows and columns do you have in each DataFrame? Is that what you expected?\n",
    "6 columns, 5 rows\n",
    "Display the summary statistics for each DataFrame.\n",
    "\n",
    "How many unique titles are in the titles DataFrame?\n",
    "\n",
    "What is the oldest date in the to_date column?\n",
    "\n",
    "What is the most recent date in the to_date column?"
   ]
  },
  {
   "cell_type": "code",
   "execution_count": 15,
   "id": "abf95b86-2b8e-4aba-8335-df2c69b44423",
   "metadata": {
    "tags": []
   },
   "outputs": [],
   "source": [
    "def get_db_url(username, password, hostname, database_name):\n",
    "    url = f'mysql+pymysql://{env.username}:{env.password}@{env.hostname}/{env.database_name}'\n",
    "    return url"
   ]
  },
  {
   "cell_type": "code",
   "execution_count": 1,
   "id": "24be42cc-6c96-489f-ac30-2ff0055162f3",
   "metadata": {
    "tags": []
   },
   "outputs": [],
   "source": [
    "import env"
   ]
  },
  {
   "cell_type": "code",
   "execution_count": null,
   "id": "4642fde0-118e-4e42-a07b-54e392d82795",
   "metadata": {
    "tags": []
   },
   "outputs": [],
   "source": []
  },
  {
   "cell_type": "code",
   "execution_count": null,
   "id": "291dc17c-960a-43ea-b15a-158155ddf44f",
   "metadata": {
    "tags": []
   },
   "outputs": [],
   "source": []
  },
  {
   "cell_type": "code",
   "execution_count": 17,
   "id": "312e9237-1922-42bc-8e3f-5515729f7e3a",
   "metadata": {
    "tags": []
   },
   "outputs": [],
   "source": [
    "from env import host\n",
    "\n",
    "url = f'mysql+pymysql://{env.user}:{env.password}@{env.host}/employees'"
   ]
  },
  {
   "cell_type": "code",
   "execution_count": 12,
   "id": "4f6397ba-dea2-48d1-94a2-826ffc9655c6",
   "metadata": {
    "tags": []
   },
   "outputs": [],
   "source": [
    "import pandas as pd"
   ]
  },
  {
   "cell_type": "code",
   "execution_count": 13,
   "id": "eee7f81a-2dd6-4c1a-b19a-6c961e09c42d",
   "metadata": {
    "tags": []
   },
   "outputs": [],
   "source": [
    "import numpy as np"
   ]
  },
  {
   "cell_type": "code",
   "execution_count": 42,
   "id": "a1cd4dbd-4253-49b7-8d63-3ce8a425dc62",
   "metadata": {
    "tags": []
   },
   "outputs": [],
   "source": [
    "from sqlalchemy import text, create_engine\n",
    "\n",
    "engine = create_engine(url)\n",
    "\n",
    "query = text('SELECT * FROM employees')\n",
    "\n",
    "sql1 = pd.read_sql(query, engine.connect())"
   ]
  },
  {
   "cell_type": "code",
   "execution_count": 57,
   "id": "eda31613-741a-43e2-ac94-d2c48b4bd8b3",
   "metadata": {
    "tags": []
   },
   "outputs": [],
   "source": [
    "sql2 = pd.read_sql(\"\"\"SELECT *\n",
    "FROM titles\n",
    "\tJOIN employees\n",
    "\t\tUSING(emp_no)\"\"\", url)"
   ]
  },
  {
   "cell_type": "code",
   "execution_count": 38,
   "id": "f4d8a04a-dfa1-40a1-9fec-602c3a2c57ae",
   "metadata": {
    "tags": []
   },
   "outputs": [
    {
     "name": "stdout",
     "output_type": "stream",
     "text": [
      "<class 'pandas.core.frame.DataFrame'>\n",
      "RangeIndex: 300024 entries, 0 to 300023\n",
      "Data columns (total 6 columns):\n",
      " #   Column      Non-Null Count   Dtype \n",
      "---  ------      --------------   ----- \n",
      " 0   emp_no      300024 non-null  int64 \n",
      " 1   birth_date  300024 non-null  object\n",
      " 2   first_name  300024 non-null  object\n",
      " 3   last_name   300024 non-null  object\n",
      " 4   gender      300024 non-null  object\n",
      " 5   hire_date   300024 non-null  object\n",
      "dtypes: int64(1), object(5)\n",
      "memory usage: 13.7+ MB\n"
     ]
    }
   ],
   "source": [
    "sql1.info()"
   ]
  },
  {
   "cell_type": "markdown",
   "id": "4c087dab-ae29-4bca-b30f-7ef17836c2b7",
   "metadata": {
    "tags": []
   },
   "source": [
    "How many unique titles are in the titles DataFrame"
   ]
  },
  {
   "cell_type": "code",
   "execution_count": 55,
   "id": "f6c2838c-91e0-4f30-8afa-aa541b382264",
   "metadata": {
    "tags": []
   },
   "outputs": [
    {
     "data": {
      "text/html": [
       "<div>\n",
       "<style scoped>\n",
       "    .dataframe tbody tr th:only-of-type {\n",
       "        vertical-align: middle;\n",
       "    }\n",
       "\n",
       "    .dataframe tbody tr th {\n",
       "        vertical-align: top;\n",
       "    }\n",
       "\n",
       "    .dataframe thead th {\n",
       "        text-align: right;\n",
       "    }\n",
       "</style>\n",
       "<table border=\"1\" class=\"dataframe\">\n",
       "  <thead>\n",
       "    <tr style=\"text-align: right;\">\n",
       "      <th></th>\n",
       "      <th>title</th>\n",
       "    </tr>\n",
       "  </thead>\n",
       "  <tbody>\n",
       "    <tr>\n",
       "      <th>0</th>\n",
       "      <td>Senior Engineer</td>\n",
       "    </tr>\n",
       "    <tr>\n",
       "      <th>1</th>\n",
       "      <td>Staff</td>\n",
       "    </tr>\n",
       "    <tr>\n",
       "      <th>2</th>\n",
       "      <td>Engineer</td>\n",
       "    </tr>\n",
       "    <tr>\n",
       "      <th>3</th>\n",
       "      <td>Senior Staff</td>\n",
       "    </tr>\n",
       "    <tr>\n",
       "      <th>4</th>\n",
       "      <td>Assistant Engineer</td>\n",
       "    </tr>\n",
       "    <tr>\n",
       "      <th>5</th>\n",
       "      <td>Technique Leader</td>\n",
       "    </tr>\n",
       "    <tr>\n",
       "      <th>6</th>\n",
       "      <td>Manager</td>\n",
       "    </tr>\n",
       "  </tbody>\n",
       "</table>\n",
       "</div>"
      ],
      "text/plain": [
       "                title\n",
       "0     Senior Engineer\n",
       "1               Staff\n",
       "2            Engineer\n",
       "3        Senior Staff\n",
       "4  Assistant Engineer\n",
       "5    Technique Leader\n",
       "6             Manager"
      ]
     },
     "execution_count": 55,
     "metadata": {},
     "output_type": "execute_result"
    }
   ],
   "source": [
    "sql2"
   ]
  },
  {
   "cell_type": "code",
   "execution_count": 63,
   "id": "85b69c44-138b-4e18-ab46-59517ef61f47",
   "metadata": {
    "tags": []
   },
   "outputs": [
    {
     "data": {
      "text/plain": [
       "datetime.date(1985, 3, 1)"
      ]
     },
     "execution_count": 63,
     "metadata": {},
     "output_type": "execute_result"
    }
   ],
   "source": [
    "oldest_to_date = sql2['to_date'].min()\n",
    "oldest_to_date"
   ]
  },
  {
   "cell_type": "code",
   "execution_count": 68,
   "id": "d01a27ec-c588-4dc5-92c3-a9b504696351",
   "metadata": {
    "tags": []
   },
   "outputs": [
    {
     "data": {
      "text/plain": [
       "datetime.date(9999, 1, 1)"
      ]
     },
     "execution_count": 68,
     "metadata": {},
     "output_type": "execute_result"
    }
   ],
   "source": [
    "newest_to_date = sql2['to_date'].max()\n",
    "newest_to_date"
   ]
  }
 ],
 "metadata": {
  "kernelspec": {
   "display_name": "Python 3 (ipykernel)",
   "language": "python",
   "name": "python3"
  },
  "language_info": {
   "codemirror_mode": {
    "name": "ipython",
    "version": 3
   },
   "file_extension": ".py",
   "mimetype": "text/x-python",
   "name": "python",
   "nbconvert_exporter": "python",
   "pygments_lexer": "ipython3",
   "version": "3.11.5"
  }
 },
 "nbformat": 4,
 "nbformat_minor": 5
}
